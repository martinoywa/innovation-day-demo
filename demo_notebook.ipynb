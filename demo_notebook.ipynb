{
 "cells": [
  {
   "cell_type": "code",
   "execution_count": 54,
   "metadata": {
    "collapsed": false,
    "jupyter": {
     "outputs_hidden": false
    }
   },
   "outputs": [],
   "source": [
    "import torch\n",
    "import torch.nn as nn\n",
    "from torchvision import models, transforms\n",
    "from PIL import Image\n",
    "from pathlib import Path"
   ]
  },
  {
   "cell_type": "code",
   "execution_count": 55,
   "metadata": {
    "collapsed": false,
    "jupyter": {
     "outputs_hidden": false
    }
   },
   "outputs": [],
   "source": [
    "class_names = ['covid', 'non']"
   ]
  },
  {
   "cell_type": "code",
   "execution_count": 56,
   "metadata": {
    "collapsed": false,
    "jupyter": {
     "outputs_hidden": false
    }
   },
   "outputs": [],
   "source": [
    "def model_loader(path):\n",
    "    \"\"\"\n",
    "    Returns loaded model\n",
    "    \"\"\"\n",
    "    model = models.resnet18(pretrained=True)\n",
    "    num_ftrs = model.fc.in_features\n",
    "    # Here the size of each output sample is set to 2.\n",
    "    # Alternatively, it can be generalized to nn.Linear(num_ftrs, len(class_names)).\n",
    "    model.fc = nn.Linear(num_ftrs, 2)\n",
    "    model.load_state_dict(torch.load(path, map_location='cpu'), strict=False)\n",
    "    model.eval()\n",
    "\n",
    "    return model"
   ]
  },
  {
   "cell_type": "code",
   "execution_count": 57,
   "metadata": {},
   "outputs": [],
   "source": [
    "checkpoint = Path('model_ft.pt')\n",
    "model = model_loader(checkpoint)"
   ]
  },
  {
   "cell_type": "code",
   "execution_count": 58,
   "metadata": {},
   "outputs": [],
   "source": [
    "def preprocess(image_path):\n",
    "    \"\"\"\n",
    "    Returns transformed image tensor.\n",
    "    :param image_path: path to image.\n",
    "    :return: transformed image.\n",
    "    \"\"\"\n",
    "    transform = transforms.Compose([\n",
    "        transforms.Resize(256),\n",
    "        transforms.CenterCrop(224),\n",
    "        transforms.ToTensor(),\n",
    "        transforms.Normalize([0.485, 0.456, 0.406], [0.229, 0.224, 0.225])\n",
    "    ])\n",
    "    image = Image.open(image_path).convert('RGB')\n",
    "    # sends a single image\n",
    "    return transform(image).unsqueeze(0)"
   ]
  },
  {
   "cell_type": "code",
   "execution_count": 59,
   "metadata": {},
   "outputs": [],
   "source": [
    "def prediction(image_path):\n",
    "    \"\"\"\n",
    "    Returns model prediction for drawing.\n",
    "    :param image_path: path to image.\n",
    "    :return: predicted label.\n",
    "    \"\"\"\n",
    "    tensor = preprocess(image_path)\n",
    "    output = model(tensor)\n",
    "    _, pred = torch.max(output, 1)\n",
    "\n",
    "    return class_names[pred]"
   ]
  },
  {
   "cell_type": "code",
   "execution_count": 65,
   "metadata": {},
   "outputs": [
    {
     "name": "stdout",
     "output_type": "stream",
     "text": [
      "Predictions for X-rays with COVID-19:\n"
     ]
    },
    {
     "data": {
      "text/plain": [
       "('covid', 'covid', 'covid')"
      ]
     },
     "execution_count": 65,
     "metadata": {},
     "output_type": "execute_result"
    }
   ],
   "source": [
    "print(\"Predictions for X-rays with COVID-19:\")\n",
    "prediction('demo_images/covid/5CBC2E94-D358-401E-8928-965CCD965C5C.jpeg'), prediction('demo_images/covid/53EC07C9-5CC6-4BE4-9B6F-D7B0D72AAA7E.jpeg'), prediction('demo_images/covid/7-fatal-covid19.jpg')"
   ]
  },
  {
   "cell_type": "code",
   "execution_count": 63,
   "metadata": {},
   "outputs": [
    {
     "name": "stdout",
     "output_type": "stream",
     "text": [
      "Predictions for X-rays without COVID-19:\n"
     ]
    },
    {
     "data": {
      "text/plain": [
       "('non', 'non', 'non')"
      ]
     },
     "execution_count": 63,
     "metadata": {},
     "output_type": "execute_result"
    }
   ],
   "source": [
    "print(\"Predictions for X-rays without COVID-19:\")\n",
    "prediction('demo_images/non/patient00106-study1-view1_frontal.jpg'), prediction('demo_images/non/patient00107-study1-view1_frontal.jpg'), prediction('demo_images/non/patient00140-study8-view1_frontal.jpg')"
   ]
  },
  {
   "cell_type": "code",
   "execution_count": 66,
   "metadata": {},
   "outputs": [
    {
     "name": "stdout",
     "output_type": "stream",
     "text": [
      "Predictions for X-rays with COVID-19:\n",
      "Predictions for X-rays with COVID-19:\n",
      "Predictions for X-rays with COVID-19:\n",
      "Predictions for X-rays with COVID-19:\n",
      "Predictions for X-rays with COVID-19:\n",
      "Predictions for X-rays with COVID-19:\n",
      "Predictions for X-rays with COVID-19:\n",
      "Predictions for X-rays with COVID-19:\n",
      "196 ms ± 35.9 ms per loop (mean ± std. dev. of 7 runs, 1 loop each)\n"
     ]
    }
   ],
   "source": [
    "%%timeit\n",
    "print(\"Predictions for X-rays with COVID-19:\")\n",
    "prediction('demo_images/covid/5CBC2E94-D358-401E-8928-965CCD965C5C.jpeg')"
   ]
  },
  {
   "cell_type": "code",
   "execution_count": null,
   "metadata": {},
   "outputs": [],
   "source": []
  }
 ],
 "metadata": {
  "kernelspec": {
   "display_name": "Python 3",
   "language": "python",
   "name": "python3"
  },
  "language_info": {
   "codemirror_mode": {
    "name": "ipython",
    "version": 3
   },
   "file_extension": ".py",
   "mimetype": "text/x-python",
   "name": "python",
   "nbconvert_exporter": "python",
   "pygments_lexer": "ipython3",
   "version": "3.8.5"
  }
 },
 "nbformat": 4,
 "nbformat_minor": 4
}
